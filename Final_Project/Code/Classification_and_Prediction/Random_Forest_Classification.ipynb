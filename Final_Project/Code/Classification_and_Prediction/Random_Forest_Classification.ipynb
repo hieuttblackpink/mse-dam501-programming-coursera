{
 "cells": [
  {
   "cell_type": "markdown",
   "metadata": {},
   "source": [
    "# Random Forest Classification"
   ]
  },
  {
   "cell_type": "code",
   "execution_count": 1,
   "metadata": {},
   "outputs": [],
   "source": [
    "# Import sections\n",
    "import pandas as pd\n",
    "import sklearn.preprocessing as LabelEncoder\n",
    "import sklearn.model_selection as train_test_split"
   ]
  },
  {
   "cell_type": "markdown",
   "metadata": {},
   "source": [
    "## I. Data preprocessing"
   ]
  },
  {
   "cell_type": "code",
   "execution_count": 2,
   "metadata": {},
   "outputs": [
    {
     "name": "stdout",
     "output_type": "stream",
     "text": [
      "         duration protocol_type  ... dst_host_srv_rerror_rate   label\n",
      "0               0           tcp  ...                      0.0  normal\n",
      "1               0           tcp  ...                      0.0  normal\n",
      "2               0           tcp  ...                      0.0  normal\n",
      "3               0           tcp  ...                      0.0  normal\n",
      "4               0           tcp  ...                      0.0  normal\n",
      "...           ...           ...  ...                      ...     ...\n",
      "4898426         0           tcp  ...                      0.0  normal\n",
      "4898427         0           tcp  ...                      0.0  normal\n",
      "4898428         0           tcp  ...                      0.0  normal\n",
      "4898429         0           tcp  ...                      0.0  normal\n",
      "4898430         0           tcp  ...                      0.0  normal\n",
      "\n",
      "[4898431 rows x 42 columns]\n"
     ]
    }
   ],
   "source": [
    "# Load the dataset\n",
    "df = pd.read_csv('../../Data/kddcup.data.csv', header = 0)"
   ]
  }
 ],
 "metadata": {
  "kernelspec": {
   "display_name": "Python 3",
   "language": "python",
   "name": "python3"
  },
  "language_info": {
   "codemirror_mode": {
    "name": "ipython",
    "version": 3
   },
   "file_extension": ".py",
   "mimetype": "text/x-python",
   "name": "python",
   "nbconvert_exporter": "python",
   "pygments_lexer": "ipython3",
   "version": "3.12.6"
  }
 },
 "nbformat": 4,
 "nbformat_minor": 2
}
