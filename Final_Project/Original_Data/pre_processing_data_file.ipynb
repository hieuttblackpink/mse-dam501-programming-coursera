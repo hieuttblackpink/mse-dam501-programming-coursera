{
 "cells": [
  {
   "cell_type": "markdown",
   "metadata": {},
   "source": [
    "## Pre-processing data file\n",
    "### Convert data file to csv file"
   ]
  },
  {
   "cell_type": "code",
   "execution_count": 1,
   "metadata": {},
   "outputs": [
    {
     "name": "stdout",
     "output_type": "stream",
     "text": [
      "Data saved to ../Data/kddcup.csv\n"
     ]
    }
   ],
   "source": [
    "import pandas as pd\n",
    "\n",
    "# File paths\n",
    "data_file = 'kddcup.data'\n",
    "names_file = 'kddcup.names'\n",
    "output_file = '../Data/kddcup.csv'\n",
    "\n",
    "# Read the names file and extract the column names (Ignores the first line)\n",
    "with open(names_file, 'r') as f:\n",
    "    names = f.readlines()\n",
    "\n",
    "# Extract the column names\n",
    "columns = [name.split(':')[0] for name in names[1:]] # Extracts only the column names\n",
    "\n",
    "# Read the data file with the extracted column names\n",
    "df = pd.read_csv(data_file, names = columns, header = None)\n",
    "\n",
    "# Save the data to a csv file\n",
    "df.to_csv(output_file, index = False)\n",
    "\n",
    "print('Data saved to', output_file)"
   ]
  }
 ],
 "metadata": {
  "kernelspec": {
   "display_name": "Python 3",
   "language": "python",
   "name": "python3"
  },
  "language_info": {
   "codemirror_mode": {
    "name": "ipython",
    "version": 3
   },
   "file_extension": ".py",
   "mimetype": "text/x-python",
   "name": "python",
   "nbconvert_exporter": "python",
   "pygments_lexer": "ipython3",
   "version": "3.12.6"
  }
 },
 "nbformat": 4,
 "nbformat_minor": 2
}
