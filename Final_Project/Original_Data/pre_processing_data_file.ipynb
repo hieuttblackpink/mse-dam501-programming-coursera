{
 "cells": [
  {
   "cell_type": "markdown",
   "metadata": {},
   "source": [
    "## Pre-processing data file\n",
    "### Convert data file to csv file"
   ]
  },
  {
   "cell_type": "code",
   "execution_count": 2,
   "metadata": {},
   "outputs": [
    {
     "name": "stdout",
     "output_type": "stream",
     "text": [
      "Data saved to ../Data/kddcup.data_corrected.csv\n",
      "Data saved to ../Data/kddcup.data_10_percent.csv\n",
      "Data saved to ../Data/kddcup.newtestdata_10_percent_unlabeled.csv\n",
      "Data saved to ../Data/kddcup.testdata.unlabeled_10_percent.csv\n"
     ]
    }
   ],
   "source": [
    "import pandas as pd\n",
    "\n",
    "# File paths\n",
    "data_output_file_map = {\n",
    "    'corrected.data': '../Data/kddcup.data_corrected.csv',\n",
    "    #'kddcup.data': '../Data/kddcup.data.csv',\n",
    "    'kddcup.data_10_percent.data': '../Data/kddcup.data_10_percent.csv',\n",
    "    'kddcup.newtestdata_10_percent_unlabeled.data': '../Data/kddcup.newtestdata_10_percent_unlabeled.csv',\n",
    "    'kddcup.testdata.unlabeled_10_percent.data': '../Data/kddcup.testdata.unlabeled_10_percent.csv',\n",
    "    #'kddcup.testdata.unlabeled.data': '../Data/kddcup.testdata.unlabeled.csv',\n",
    "}\n",
    "names_file = 'kddcup.names'\n",
    "output_file = '../Data/kddcup.csv'\n",
    "\n",
    "# Read the names file and extract the column names (Ignores the first line)\n",
    "with open(names_file, 'r') as f:\n",
    "    names = f.readlines()\n",
    "\n",
    "# Extract the column names\n",
    "columns = [name.split(':')[0] for name in names[1:]] # Extracts only the column names\n",
    "columns.append('label') # Append the label column\n",
    "\n",
    "# Read the data file with the extracted column names\n",
    "for data_file, output_file in data_output_file_map.items():\n",
    "    # Read the data file\n",
    "    df = pd.read_csv(data_file, names = columns, header = None)\n",
    "\n",
    "    # Remove . in label column for not unlabeled data\n",
    "    if 'unlabeled' not in data_file:\n",
    "        # Remove . in label column\n",
    "        df['label'] = df['label'].str.replace('.', '', regex = False)\n",
    "\n",
    "    # Save the data to a csv file\n",
    "    df.to_csv(output_file, index = False)\n",
    "\n",
    "    print('Data saved to', output_file)"
   ]
  }
 ],
 "metadata": {
  "kernelspec": {
   "display_name": "Python 3",
   "language": "python",
   "name": "python3"
  },
  "language_info": {
   "codemirror_mode": {
    "name": "ipython",
    "version": 3
   },
   "file_extension": ".py",
   "mimetype": "text/x-python",
   "name": "python",
   "nbconvert_exporter": "python",
   "pygments_lexer": "ipython3",
   "version": "3.12.6"
  }
 },
 "nbformat": 4,
 "nbformat_minor": 2
}
